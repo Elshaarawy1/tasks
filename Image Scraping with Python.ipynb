{
 "cells": [
  {
   "cell_type": "code",
   "execution_count": 5,
   "id": "ee9e3929",
   "metadata": {
    "ExecuteTime": {
     "end_time": "2022-05-20T23:20:48.732373Z",
     "start_time": "2022-05-20T23:20:47.769375Z"
    }
   },
   "outputs": [
    {
     "name": "stdout",
     "output_type": "stream",
     "text": [
      "https://cdn140.picsart.com/28410169050081638995.svg\n",
      "https://cdn140.picsart.com/67805237660487852859.jpg?type=webp&to=min&r=400&q=95&width=1920\n",
      "https://cdn140.picsart.com/67805237660487852859.jpg?type=webp&to=min&r=400&q=95&width=1920\n",
      "data:image/gif;base64,R0lGODlhAQABAIAAAAAAAP///yH5BAEAAAAALAAAAAABAAEAAAIBRAA7\n",
      "https://cdn140.picsart.com/29401094886449087960.png?type=webp&to=min&r=400&q=95&width=1920\n",
      "data:image/gif;base64,R0lGODlhAQABAIAAAAAAAP///yH5BAEAAAAALAAAAAABAAEAAAIBRAA7\n",
      "https://cdn140.picsart.com/65390613882417434216.png?type=webp&to=min&r=400&q=95&width=1920\n",
      "data:image/gif;base64,R0lGODlhAQABAIAAAAAAAP///yH5BAEAAAAALAAAAAABAAEAAAIBRAA7\n",
      "https://cdn140.picsart.com/89626072708249042397.png?type=webp&to=min&r=400&q=95&width=1920\n",
      "data:image/gif;base64,R0lGODlhAQABAIAAAAAAAP///yH5BAEAAAAALAAAAAABAAEAAAIBRAA7\n",
      "https://cdn140.picsart.com/27854462112645427017.png?type=webp&to=min&r=400&q=95&width=1920\n",
      "https://cdn140.picsart.com/61820102024447423214.svg\n"
     ]
    }
   ],
   "source": [
    "import requests\n",
    "from bs4 import BeautifulSoup\n",
    "\t\n",
    "def getdata(url):\n",
    "\tr = requests.get(url)\n",
    "\treturn r.text\n",
    "\t\n",
    "htmldata = getdata(\"https://picsart.com/\")\n",
    "soup = BeautifulSoup(htmldata, 'html.parser')\n",
    "for item in soup.find_all('img'):\n",
    "\tprint(item['src'])\n"
   ]
  },
  {
   "cell_type": "code",
   "execution_count": null,
   "id": "7b512024",
   "metadata": {},
   "outputs": [],
   "source": []
  }
 ],
 "metadata": {
  "kernelspec": {
   "display_name": "Python 3 (ipykernel)",
   "language": "python",
   "name": "python3"
  },
  "language_info": {
   "codemirror_mode": {
    "name": "ipython",
    "version": 3
   },
   "file_extension": ".py",
   "mimetype": "text/x-python",
   "name": "python",
   "nbconvert_exporter": "python",
   "pygments_lexer": "ipython3",
   "version": "3.9.7"
  }
 },
 "nbformat": 4,
 "nbformat_minor": 5
}
