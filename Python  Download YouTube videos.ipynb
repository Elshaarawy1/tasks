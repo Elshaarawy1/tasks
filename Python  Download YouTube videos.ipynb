{
 "cells": [
  {
   "cell_type": "code",
   "execution_count": null,
   "id": "27c06531",
   "metadata": {
    "ExecuteTime": {
     "start_time": "2022-05-20T22:56:05.292Z"
    },
    "code_folding": []
   },
   "outputs": [],
   "source": [
    "# importing module\n",
    "import youtube_dl\n",
    "\n",
    "ydl_opts = {}\n",
    "\n",
    "def dwl_vid():\n",
    "\twith youtube_dl.YoutubeDL(ydl_opts) as ydl:\n",
    "\t\tydl.download([zxt])\n",
    "\n",
    "channel = 1\n",
    "while (channel == int(1)):\n",
    "\tlink_of_the_video = input(\"Copy & paste the URL of the YouTube video you want to download:- \")\n",
    "\tzxt = link_of_the_video.strip()\n",
    "\n",
    "\tdwl_vid()\n",
    "\tchannel = int(input(\"Enter 1 if you want to download more videos \\nEnter 0 if you are done \"))\n"
   ]
  },
  {
   "cell_type": "code",
   "execution_count": null,
   "id": "edd50cba",
   "metadata": {},
   "outputs": [],
   "source": []
  }
 ],
 "metadata": {
  "kernelspec": {
   "display_name": "Python 3 (ipykernel)",
   "language": "python",
   "name": "python3"
  },
  "language_info": {
   "codemirror_mode": {
    "name": "ipython",
    "version": 3
   },
   "file_extension": ".py",
   "mimetype": "text/x-python",
   "name": "python",
   "nbconvert_exporter": "python",
   "pygments_lexer": "ipython3",
   "version": "3.9.7"
  }
 },
 "nbformat": 4,
 "nbformat_minor": 5
}
