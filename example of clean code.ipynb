{
 "cells": [
  {
   "cell_type": "code",
   "execution_count": null,
   "id": "3fef5201",
   "metadata": {},
   "outputs": [],
   "source": [
    "Example of clean code"
   ]
  },
  {
   "cell_type": "code",
   "execution_count": null,
   "id": "52558860",
   "metadata": {},
   "outputs": [],
   "source": [
    "Example (1)"
   ]
  },
  {
   "cell_type": "code",
   "execution_count": null,
   "id": "f5bbf1be",
   "metadata": {},
   "outputs": [],
   "source": [
    "Bad:"
   ]
  },
  {
   "cell_type": "code",
   "execution_count": null,
   "id": "b06437ba",
   "metadata": {},
   "outputs": [],
   "source": [
    "import datetime\n",
    "\n",
    "\n",
    "ymdstr = datetime.date.today().strftime(\"%y-%m-%d\")"
   ]
  },
  {
   "cell_type": "code",
   "execution_count": null,
   "id": "9ef8eed3",
   "metadata": {},
   "outputs": [],
   "source": [
    "Good:"
   ]
  },
  {
   "cell_type": "code",
   "execution_count": null,
   "id": "f90b8f97",
   "metadata": {},
   "outputs": [],
   "source": [
    "import datetime\n",
    "\n",
    "\n",
    "current_date: str = datetime.date.today().strftime(\"%y-%m-%d\")"
   ]
  },
  {
   "cell_type": "code",
   "execution_count": null,
   "id": "c803d480",
   "metadata": {},
   "outputs": [],
   "source": [
    "Example (2)"
   ]
  },
  {
   "cell_type": "code",
   "execution_count": null,
   "id": "8078ec04",
   "metadata": {},
   "outputs": [],
   "source": [
    "Bad:Here we use three different names for the same underlying entity:"
   ]
  },
  {
   "cell_type": "code",
   "execution_count": null,
   "id": "14f16446",
   "metadata": {},
   "outputs": [],
   "source": [
    "def get_user_info(): pass\n",
    "def get_client_data(): pass\n",
    "def get_customer_record(): pass"
   ]
  },
  {
   "cell_type": "code",
   "execution_count": null,
   "id": "0115f1ef",
   "metadata": {},
   "outputs": [],
   "source": [
    "Good: If the entity is the same, you should be consistent in referring to it in your functions:"
   ]
  },
  {
   "cell_type": "code",
   "execution_count": null,
   "id": "375951ab",
   "metadata": {},
   "outputs": [],
   "source": [
    "def get_user_info(): pass\n",
    "def get_user_data(): pass\n",
    "def get_user_record(): pass"
   ]
  },
  {
   "cell_type": "code",
   "execution_count": null,
   "id": "51feb638",
   "metadata": {},
   "outputs": [],
   "source": [
    "Example (3)"
   ]
  },
  {
   "cell_type": "code",
   "execution_count": null,
   "id": "26e8b2f5",
   "metadata": {},
   "outputs": [],
   "source": [
    "Bad:"
   ]
  },
  {
   "cell_type": "code",
   "execution_count": null,
   "id": "853ea28a",
   "metadata": {},
   "outputs": [],
   "source": [
    "import re\n",
    "\n",
    "\n",
    "address = \"One Infinite Loop, Cupertino 95014\"\n",
    "city_zip_code_regex = r\"^[^,\\\\]+[,\\\\\\s]+(.+?)\\s*(\\d{5})?$\"\n",
    "\n",
    "matches = re.match(city_zip_code_regex, address)\n",
    "if matches:\n",
    "    print(f\"{matches[1]}: {matches[2]}\")"
   ]
  },
  {
   "cell_type": "code",
   "execution_count": null,
   "id": "8f1b4bba",
   "metadata": {},
   "outputs": [],
   "source": [
    "not Bad: \n",
    "    It's better, but we are still heavily dependent on regex."
   ]
  },
  {
   "cell_type": "code",
   "execution_count": null,
   "id": "710a4d7d",
   "metadata": {},
   "outputs": [],
   "source": [
    "import re\n",
    "\n",
    "\n",
    "address = \"One Infinite Loop, Cupertino 95014\"\n",
    "city_zip_code_regex = r\"^[^,\\\\]+[,\\\\\\s]+(.+?)\\s*(\\d{5})?$\"\n",
    "matches = re.match(city_zip_code_regex, address)\n",
    "\n",
    "if matches:\n",
    "    city, zip_code = matches.groups()\n",
    "    print(f\"{city}: {zip_code}\")"
   ]
  },
  {
   "cell_type": "code",
   "execution_count": null,
   "id": "9375cdbc",
   "metadata": {},
   "outputs": [],
   "source": [
    "Good:\n",
    "    Decrease dependence on regex by naming subpatterns."
   ]
  },
  {
   "cell_type": "code",
   "execution_count": null,
   "id": "db73fc55",
   "metadata": {},
   "outputs": [],
   "source": [
    "import re\n",
    "\n",
    "\n",
    "address = \"One Infinite Loop, Cupertino 95014\"\n",
    "city_zip_code_regex = r\"^[^,\\\\]+[,\\\\\\s]+(?P<city>.+?)\\s*(?P<zip_code>\\d{5})?$\"\n",
    "\n",
    "matches = re.match(city_zip_code_regex, address)\n",
    "if matches:\n",
    "    print(f\"{matches['city']}, {matches['zip_code']}\")"
   ]
  },
  {
   "cell_type": "code",
   "execution_count": null,
   "id": "565f910f",
   "metadata": {},
   "outputs": [],
   "source": []
  },
  {
   "cell_type": "code",
   "execution_count": null,
   "id": "3fab8070",
   "metadata": {},
   "outputs": [],
   "source": []
  },
  {
   "cell_type": "code",
   "execution_count": null,
   "id": "38503ec4",
   "metadata": {},
   "outputs": [],
   "source": []
  },
  {
   "cell_type": "code",
   "execution_count": null,
   "id": "db27cd8f",
   "metadata": {},
   "outputs": [],
   "source": []
  },
  {
   "cell_type": "code",
   "execution_count": null,
   "id": "0af51fff",
   "metadata": {},
   "outputs": [],
   "source": []
  }
 ],
 "metadata": {
  "kernelspec": {
   "display_name": "Python 3 (ipykernel)",
   "language": "python",
   "name": "python3"
  },
  "language_info": {
   "codemirror_mode": {
    "name": "ipython",
    "version": 3
   },
   "file_extension": ".py",
   "mimetype": "text/x-python",
   "name": "python",
   "nbconvert_exporter": "python",
   "pygments_lexer": "ipython3",
   "version": "3.9.7"
  }
 },
 "nbformat": 4,
 "nbformat_minor": 5
}
